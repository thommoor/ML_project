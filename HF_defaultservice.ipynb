{
  "nbformat": 4,
  "nbformat_minor": 0,
  "metadata": {
    "colab": {
      "name": "HF_defaultservice.ipynb",
      "provenance": [],
      "collapsed_sections": [],
      "toc_visible": true
    },
    "kernelspec": {
      "display_name": "Python 3",
      "name": "python3"
    }
  },
  "cells": [
    {
      "cell_type": "markdown",
      "metadata": {
        "id": "LsMj-GvtRMDB"
      },
      "source": [
        "#ENGR E222 2021 Project\n",
        "#Default ML application for heart failure\n",
        "This is a default service where we train a logistic regression classifier to the heart failure data set provided in class. Here we build a model to predict, given a set of features, the likelihood of a heart attack. \n",
        "\n",
        "## Step 1: Download the kaggle dataset to your google drive\n",
        "https://medium.com/analytics-vidhya/how-to-fetch-kaggle-datasets-into-google-colab-ea682569851a\n",
        "The above link goes through fetching the .json file from kaggle and putting it\n",
        "in the correct place to allow you to use the kaggle api to fetch data directly \n",
        "to your notebook\n",
        "\n",
        "the kaggle package is not default in collab"
      ]
    },
    {
      "cell_type": "code",
      "metadata": {
        "id": "qqDgiFuu-ORP",
        "colab": {
          "resources": {
            "http://localhost:8080/nbextensions/google.colab/files.js": {
              "data": "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",
              "ok": true,
              "headers": [
                [
                  "content-type",
                  "application/javascript"
                ]
              ],
              "status": 200,
              "status_text": ""
            }
          },
          "base_uri": "https://localhost:8080/",
          "height": 128
        },
        "outputId": "47968f04-901d-40ff-a4c0-88182f0f5b56"
      },
      "source": [
        "!pip install -q kaggle \n",
        "from google.colab import files\n",
        "files.upload()\n",
        "\n",
        "# This below is command line you can also use a mouse and make dir structure\n",
        "# !mkdir -p ~/.kaggle\n",
        "# !cp kaggle.json ~/.kaggle/\n",
        "# !ls ~/.kaggle\n",
        "# !chmod 600 /root/.kaggle/kaggle.json"
      ],
      "execution_count": 3,
      "outputs": [
        {
          "output_type": "display_data",
          "data": {
            "text/html": [
              "\n",
              "     <input type=\"file\" id=\"files-fcf5214e-51b1-4944-9717-7e9c2d281051\" name=\"files[]\" multiple disabled\n",
              "        style=\"border:none\" />\n",
              "     <output id=\"result-fcf5214e-51b1-4944-9717-7e9c2d281051\">\n",
              "      Upload widget is only available when the cell has been executed in the\n",
              "      current browser session. Please rerun this cell to enable.\n",
              "      </output>\n",
              "      <script src=\"/nbextensions/google.colab/files.js\"></script> "
            ],
            "text/plain": [
              "<IPython.core.display.HTML object>"
            ]
          },
          "metadata": {
            "tags": []
          }
        },
        {
          "output_type": "stream",
          "text": [
            "Saving heart_failure_clinical_records_dataset.csv to heart_failure_clinical_records_dataset.csv\n"
          ],
          "name": "stdout"
        },
        {
          "output_type": "execute_result",
          "data": {
            "text/plain": [
              "{'heart_failure_clinical_records_dataset.csv': b'age,anaemia,creatinine_phosphokinase,diabetes,ejection_fraction,high_blood_pressure,platelets,serum_creatinine,serum_sodium,sex,smoking,time,DEATH_EVENT\\n75,0,582,0,20,1,265000,1.9,130,1,0,4,1\\n55,0,7861,0,38,0,263358.03,1.1,136,1,0,6,1\\n65,0,146,0,20,0,162000,1.3,129,1,1,7,1\\n50,1,111,0,20,0,210000,1.9,137,1,0,7,1\\n65,1,160,1,20,0,327000,2.7,116,0,0,8,1\\n90,1,47,0,40,1,204000,2.1,132,1,1,8,1\\n75,1,246,0,15,0,127000,1.2,137,1,0,10,1\\n60,1,315,1,60,0,454000,1.1,131,1,1,10,1\\n65,0,157,0,65,0,263358.03,1.5,138,0,0,10,1\\n80,1,123,0,35,1,388000,9.4,133,1,1,10,1\\n75,1,81,0,38,1,368000,4,131,1,1,10,1\\n62,0,231,0,25,1,253000,0.9,140,1,1,10,1\\n45,1,981,0,30,0,136000,1.1,137,1,0,11,1\\n50,1,168,0,38,1,276000,1.1,137,1,0,11,1\\n49,1,80,0,30,1,427000,1,138,0,0,12,0\\n82,1,379,0,50,0,47000,1.3,136,1,0,13,1\\n87,1,149,0,38,0,262000,0.9,140,1,0,14,1\\n45,0,582,0,14,0,166000,0.8,127,1,0,14,1\\n70,1,125,0,25,1,237000,1,140,0,0,15,1\\n48,1,582,1,55,0,87000,1.9,121,0,0,15,1\\n65,1,52,0,25,1,276000,1.3,137,0,0,16,0\\n65,1,128,1,30,1,297000,1.6,136,0,0,20,1\\n68,1,220,0,35,1,289000,0.9,140,1,1,20,1\\n53,0,63,1,60,0,368000,0.8,135,1,0,22,0\\n75,0,582,1,30,1,263358.03,1.83,134,0,0,23,1\\n80,0,148,1,38,0,149000,1.9,144,1,1,23,1\\n95,1,112,0,40,1,196000,1,138,0,0,24,1\\n70,0,122,1,45,1,284000,1.3,136,1,1,26,1\\n58,1,60,0,38,0,153000,5.8,134,1,0,26,1\\n82,0,70,1,30,0,200000,1.2,132,1,1,26,1\\n94,0,582,1,38,1,263358.03,1.83,134,1,0,27,1\\n85,0,23,0,45,0,360000,3,132,1,0,28,1\\n50,1,249,1,35,1,319000,1,128,0,0,28,1\\n50,1,159,1,30,0,302000,1.2,138,0,0,29,0\\n65,0,94,1,50,1,188000,1,140,1,0,29,1\\n69,0,582,1,35,0,228000,3.5,134,1,0,30,1\\n90,1,60,1,50,0,226000,1,134,1,0,30,1\\n82,1,855,1,50,1,321000,1,145,0,0,30,1\\n60,0,2656,1,30,0,305000,2.3,137,1,0,30,0\\n60,0,235,1,38,0,329000,3,142,0,0,30,1\\n70,0,582,0,20,1,263358.03,1.83,134,1,1,31,1\\n50,0,124,1,30,1,153000,1.2,136,0,1,32,1\\n70,0,571,1,45,1,185000,1.2,139,1,1,33,1\\n72,0,127,1,50,1,218000,1,134,1,0,33,0\\n60,1,588,1,60,0,194000,1.1,142,0,0,33,1\\n50,0,582,1,38,0,310000,1.9,135,1,1,35,1\\n51,0,1380,0,25,1,271000,0.9,130,1,0,38,1\\n60,0,582,1,38,1,451000,0.6,138,1,1,40,1\\n80,1,553,0,20,1,140000,4.4,133,1,0,41,1\\n57,1,129,0,30,0,395000,1,140,0,0,42,1\\n68,1,577,0,25,1,166000,1,138,1,0,43,1\\n53,1,91,0,20,1,418000,1.4,139,0,0,43,1\\n60,0,3964,1,62,0,263358.03,6.8,146,0,0,43,1\\n70,1,69,1,50,1,351000,1,134,0,0,44,1\\n60,1,260,1,38,0,255000,2.2,132,0,1,45,1\\n95,1,371,0,30,0,461000,2,132,1,0,50,1\\n70,1,75,0,35,0,223000,2.7,138,1,1,54,0\\n60,1,607,0,40,0,216000,0.6,138,1,1,54,0\\n49,0,789,0,20,1,319000,1.1,136,1,1,55,1\\n72,0,364,1,20,1,254000,1.3,136,1,1,59,1\\n45,0,7702,1,25,1,390000,1,139,1,0,60,1\\n50,0,318,0,40,1,216000,2.3,131,0,0,60,1\\n55,0,109,0,35,0,254000,1.1,139,1,1,60,0\\n45,0,582,0,35,0,385000,1,145,1,0,61,1\\n45,0,582,0,80,0,263358.03,1.18,137,0,0,63,0\\n60,0,68,0,20,0,119000,2.9,127,1,1,64,1\\n42,1,250,1,15,0,213000,1.3,136,0,0,65,1\\n72,1,110,0,25,0,274000,1,140,1,1,65,1\\n70,0,161,0,25,0,244000,1.2,142,0,0,66,1\\n65,0,113,1,25,0,497000,1.83,135,1,0,67,1\\n41,0,148,0,40,0,374000,0.8,140,1,1,68,0\\n58,0,582,1,35,0,122000,0.9,139,1,1,71,0\\n85,0,5882,0,35,0,243000,1,132,1,1,72,1\\n65,0,224,1,50,0,149000,1.3,137,1,1,72,0\\n69,0,582,0,20,0,266000,1.2,134,1,1,73,1\\n60,1,47,0,20,0,204000,0.7,139,1,1,73,1\\n70,0,92,0,60,1,317000,0.8,140,0,1,74,0\\n42,0,102,1,40,0,237000,1.2,140,1,0,74,0\\n75,1,203,1,38,1,283000,0.6,131,1,1,74,0\\n55,0,336,0,45,1,324000,0.9,140,0,0,74,0\\n70,0,69,0,40,0,293000,1.7,136,0,0,75,0\\n67,0,582,0,50,0,263358.03,1.18,137,1,1,76,0\\n60,1,76,1,25,0,196000,2.5,132,0,0,77,1\\n79,1,55,0,50,1,172000,1.8,133,1,0,78,0\\n59,1,280,1,25,1,302000,1,141,0,0,78,1\\n51,0,78,0,50,0,406000,0.7,140,1,0,79,0\\n55,0,47,0,35,1,173000,1.1,137,1,0,79,0\\n65,1,68,1,60,1,304000,0.8,140,1,0,79,0\\n44,0,84,1,40,1,235000,0.7,139,1,0,79,0\\n57,1,115,0,25,1,181000,1.1,144,1,0,79,0\\n70,0,66,1,45,0,249000,0.8,136,1,1,80,0\\n60,0,897,1,45,0,297000,1,133,1,0,80,0\\n42,0,582,0,60,0,263358.03,1.18,137,0,0,82,0\\n60,1,154,0,25,0,210000,1.7,135,1,0,82,1\\n58,0,144,1,38,1,327000,0.7,142,0,0,83,0\\n58,1,133,0,60,1,219000,1,141,1,0,83,0\\n63,1,514,1,25,1,254000,1.3,134,1,0,83,0\\n70,1,59,0,60,0,255000,1.1,136,0,0,85,0\\n60,1,156,1,25,1,318000,1.2,137,0,0,85,0\\n63,1,61,1,40,0,221000,1.1,140,0,0,86,0\\n65,1,305,0,25,0,298000,1.1,141,1,0,87,0\\n75,0,582,0,45,1,263358.03,1.18,137,1,0,87,0\\n80,0,898,0,25,0,149000,1.1,144,1,1,87,0\\n42,0,5209,0,30,0,226000,1,140,1,1,87,0\\n60,0,53,0,50,1,286000,2.3,143,0,0,87,0\\n72,1,328,0,30,1,621000,1.7,138,0,1,88,1\\n55,0,748,0,45,0,263000,1.3,137,1,0,88,0\\n45,1,1876,1,35,0,226000,0.9,138,1,0,88,0\\n63,0,936,0,38,0,304000,1.1,133,1,1,88,0\\n45,0,292,1,35,0,850000,1.3,142,1,1,88,0\\n85,0,129,0,60,0,306000,1.2,132,1,1,90,1\\n55,0,60,0,35,0,228000,1.2,135,1,1,90,0\\n50,0,369,1,25,0,252000,1.6,136,1,0,90,0\\n70,1,143,0,60,0,351000,1.3,137,0,0,90,1\\n60,1,754,1,40,1,328000,1.2,126,1,0,91,0\\n58,1,400,0,40,0,164000,1,139,0,0,91,0\\n60,1,96,1,60,1,271000,0.7,136,0,0,94,0\\n85,1,102,0,60,0,507000,3.2,138,0,0,94,0\\n65,1,113,1,60,1,203000,0.9,140,0,0,94,0\\n86,0,582,0,38,0,263358.03,1.83,134,0,0,95,1\\n60,1,737,0,60,1,210000,1.5,135,1,1,95,0\\n66,1,68,1,38,1,162000,1,136,0,0,95,0\\n60,0,96,1,38,0,228000,0.75,140,0,0,95,0\\n60,1,582,0,30,1,127000,0.9,145,0,0,95,0\\n60,0,582,0,40,0,217000,3.7,134,1,0,96,1\\n43,1,358,0,50,0,237000,1.3,135,0,0,97,0\\n46,0,168,1,17,1,271000,2.1,124,0,0,100,1\\n58,1,200,1,60,0,300000,0.8,137,0,0,104,0\\n61,0,248,0,30,1,267000,0.7,136,1,1,104,0\\n53,1,270,1,35,0,227000,3.4,145,1,0,105,0\\n53,1,1808,0,60,1,249000,0.7,138,1,1,106,0\\n60,1,1082,1,45,0,250000,6.1,131,1,0,107,0\\n46,0,719,0,40,1,263358.03,1.18,137,0,0,107,0\\n63,0,193,0,60,1,295000,1.3,145,1,1,107,0\\n81,0,4540,0,35,0,231000,1.18,137,1,1,107,0\\n75,0,582,0,40,0,263358.03,1.18,137,1,0,107,0\\n65,1,59,1,60,0,172000,0.9,137,0,0,107,0\\n68,1,646,0,25,0,305000,2.1,130,1,0,108,0\\n62,0,281,1,35,0,221000,1,136,0,0,108,0\\n50,0,1548,0,30,1,211000,0.8,138,1,0,108,0\\n80,0,805,0,38,0,263358.03,1.1,134,1,0,109,1\\n46,1,291,0,35,0,348000,0.9,140,0,0,109,0\\n50,0,482,1,30,0,329000,0.9,132,0,0,109,0\\n61,1,84,0,40,1,229000,0.9,141,0,0,110,0\\n72,1,943,0,25,1,338000,1.7,139,1,1,111,1\\n50,0,185,0,30,0,266000,0.7,141,1,1,112,0\\n52,0,132,0,30,0,218000,0.7,136,1,1,112,0\\n64,0,1610,0,60,0,242000,1,137,1,0,113,0\\n75,1,582,0,30,0,225000,1.83,134,1,0,113,1\\n60,0,2261,0,35,1,228000,0.9,136,1,0,115,0\\n72,0,233,0,45,1,235000,2.5,135,0,0,115,1\\n62,0,30,1,60,1,244000,0.9,139,1,0,117,0\\n50,0,115,0,45,1,184000,0.9,134,1,1,118,0\\n50,0,1846,1,35,0,263358.03,1.18,137,1,1,119,0\\n65,1,335,0,35,1,235000,0.8,136,0,0,120,0\\n60,1,231,1,25,0,194000,1.7,140,1,0,120,0\\n52,1,58,0,35,0,277000,1.4,136,0,0,120,0\\n50,0,250,0,25,0,262000,1,136,1,1,120,0\\n85,1,910,0,50,0,235000,1.3,134,1,0,121,0\\n59,1,129,0,45,1,362000,1.1,139,1,1,121,0\\n66,1,72,0,40,1,242000,1.2,134,1,0,121,0\\n45,1,130,0,35,0,174000,0.8,139,1,1,121,0\\n63,1,582,0,40,0,448000,0.9,137,1,1,123,0\\n50,1,2334,1,35,0,75000,0.9,142,0,0,126,1\\n45,0,2442,1,30,0,334000,1.1,139,1,0,129,1\\n80,0,776,1,38,1,192000,1.3,135,0,0,130,1\\n53,0,196,0,60,0,220000,0.7,133,1,1,134,0\\n59,0,66,1,20,0,70000,2.4,134,1,0,135,1\\n65,0,582,1,40,0,270000,1,138,0,0,140,0\\n70,0,835,0,35,1,305000,0.8,133,0,0,145,0\\n51,1,582,1,35,0,263358.03,1.5,136,1,1,145,0\\n52,0,3966,0,40,0,325000,0.9,140,1,1,146,0\\n70,1,171,0,60,1,176000,1.1,145,1,1,146,0\\n50,1,115,0,20,0,189000,0.8,139,1,0,146,0\\n65,0,198,1,35,1,281000,0.9,137,1,1,146,0\\n60,1,95,0,60,0,337000,1,138,1,1,146,0\\n69,0,1419,0,40,0,105000,1,135,1,1,147,0\\n49,1,69,0,50,0,132000,1,140,0,0,147,0\\n63,1,122,1,60,0,267000,1.2,145,1,0,147,0\\n55,0,835,0,40,0,279000,0.7,140,1,1,147,0\\n40,0,478,1,30,0,303000,0.9,136,1,0,148,0\\n59,1,176,1,25,0,221000,1,136,1,1,150,1\\n65,0,395,1,25,0,265000,1.2,136,1,1,154,1\\n75,0,99,0,38,1,224000,2.5,134,1,0,162,1\\n58,1,145,0,25,0,219000,1.2,137,1,1,170,1\\n60.667,1,104,1,30,0,389000,1.5,136,1,0,171,1\\n50,0,582,0,50,0,153000,0.6,134,0,0,172,1\\n60,0,1896,1,25,0,365000,2.1,144,0,0,172,1\\n60.667,1,151,1,40,1,201000,1,136,0,0,172,0\\n40,0,244,0,45,1,275000,0.9,140,0,0,174,0\\n80,0,582,1,35,0,350000,2.1,134,1,0,174,0\\n64,1,62,0,60,0,309000,1.5,135,0,0,174,0\\n50,1,121,1,40,0,260000,0.7,130,1,0,175,0\\n73,1,231,1,30,0,160000,1.18,142,1,1,180,0\\n45,0,582,0,20,1,126000,1.6,135,1,0,180,1\\n77,1,418,0,45,0,223000,1.8,145,1,0,180,1\\n45,0,582,1,38,1,263358.03,1.18,137,0,0,185,0\\n65,0,167,0,30,0,259000,0.8,138,0,0,186,0\\n50,1,582,1,20,1,279000,1,134,0,0,186,0\\n60,0,1211,1,35,0,263358.03,1.8,113,1,1,186,0\\n63,1,1767,0,45,0,73000,0.7,137,1,0,186,0\\n45,0,308,1,60,1,377000,1,136,1,0,186,0\\n70,0,97,0,60,1,220000,0.9,138,1,0,186,0\\n60,0,59,0,25,1,212000,3.5,136,1,1,187,0\\n78,1,64,0,40,0,277000,0.7,137,1,1,187,0\\n50,1,167,1,45,0,362000,1,136,0,0,187,0\\n40,1,101,0,40,0,226000,0.8,141,0,0,187,0\\n85,0,212,0,38,0,186000,0.9,136,1,0,187,0\\n60,1,2281,1,40,0,283000,1,141,0,0,187,0\\n49,0,972,1,35,1,268000,0.8,130,0,0,187,0\\n70,0,212,1,17,1,389000,1,136,1,1,188,0\\n50,0,582,0,62,1,147000,0.8,140,1,1,192,0\\n78,0,224,0,50,0,481000,1.4,138,1,1,192,0\\n48,1,131,1,30,1,244000,1.6,130,0,0,193,1\\n65,1,135,0,35,1,290000,0.8,134,1,0,194,0\\n73,0,582,0,35,1,203000,1.3,134,1,0,195,0\\n70,0,1202,0,50,1,358000,0.9,141,0,0,196,0\\n54,1,427,0,70,1,151000,9,137,0,0,196,1\\n68,1,1021,1,35,0,271000,1.1,134,1,0,197,0\\n55,0,582,1,35,1,371000,0.7,140,0,0,197,0\\n73,0,582,0,20,0,263358.03,1.83,134,1,0,198,1\\n65,0,118,0,50,0,194000,1.1,145,1,1,200,0\\n42,1,86,0,35,0,365000,1.1,139,1,1,201,0\\n47,0,582,0,25,0,130000,0.8,134,1,0,201,0\\n58,0,582,1,25,0,504000,1,138,1,0,205,0\\n75,0,675,1,60,0,265000,1.4,125,0,0,205,0\\n58,1,57,0,25,0,189000,1.3,132,1,1,205,0\\n55,1,2794,0,35,1,141000,1,140,1,0,206,0\\n65,0,56,0,25,0,237000,5,130,0,0,207,0\\n72,0,211,0,25,0,274000,1.2,134,0,0,207,0\\n60,0,166,0,30,0,62000,1.7,127,0,0,207,1\\n70,0,93,0,35,0,185000,1.1,134,1,1,208,0\\n40,1,129,0,35,0,255000,0.9,137,1,0,209,0\\n53,1,707,0,38,0,330000,1.4,137,1,1,209,0\\n53,1,582,0,45,0,305000,1.1,137,1,1,209,0\\n77,1,109,0,50,1,406000,1.1,137,1,0,209,0\\n75,0,119,0,50,1,248000,1.1,148,1,0,209,0\\n70,0,232,0,30,0,173000,1.2,132,1,0,210,0\\n65,1,720,1,40,0,257000,1,136,0,0,210,0\\n55,1,180,0,45,0,263358.03,1.18,137,1,1,211,0\\n70,0,81,1,35,1,533000,1.3,139,0,0,212,0\\n65,0,582,1,30,0,249000,1.3,136,1,1,212,0\\n40,0,90,0,35,0,255000,1.1,136,1,1,212,0\\n73,1,1185,0,40,1,220000,0.9,141,0,0,213,0\\n54,0,582,1,38,0,264000,1.8,134,1,0,213,0\\n61,1,80,1,38,0,282000,1.4,137,1,0,213,0\\n55,0,2017,0,25,0,314000,1.1,138,1,0,214,1\\n64,0,143,0,25,0,246000,2.4,135,1,0,214,0\\n40,0,624,0,35,0,301000,1,142,1,1,214,0\\n53,0,207,1,40,0,223000,1.2,130,0,0,214,0\\n50,0,2522,0,30,1,404000,0.5,139,0,0,214,0\\n55,0,572,1,35,0,231000,0.8,143,0,0,215,0\\n50,0,245,0,45,1,274000,1,133,1,0,215,0\\n70,0,88,1,35,1,236000,1.2,132,0,0,215,0\\n53,1,446,0,60,1,263358.03,1,139,1,0,215,0\\n52,1,191,1,30,1,334000,1,142,1,1,216,0\\n65,0,326,0,38,0,294000,1.7,139,0,0,220,0\\n58,0,132,1,38,1,253000,1,139,1,0,230,0\\n45,1,66,1,25,0,233000,0.8,135,1,0,230,0\\n53,0,56,0,50,0,308000,0.7,135,1,1,231,0\\n55,0,66,0,40,0,203000,1,138,1,0,233,0\\n62,1,655,0,40,0,283000,0.7,133,0,0,233,0\\n65,1,258,1,25,0,198000,1.4,129,1,0,235,1\\n68,1,157,1,60,0,208000,1,140,0,0,237,0\\n61,0,582,1,38,0,147000,1.2,141,1,0,237,0\\n50,1,298,0,35,0,362000,0.9,140,1,1,240,0\\n55,0,1199,0,20,0,263358.03,1.83,134,1,1,241,1\\n56,1,135,1,38,0,133000,1.7,140,1,0,244,0\\n45,0,582,1,38,0,302000,0.9,140,0,0,244,0\\n40,0,582,1,35,0,222000,1,132,1,0,244,0\\n44,0,582,1,30,1,263358.03,1.6,130,1,1,244,0\\n51,0,582,1,40,0,221000,0.9,134,0,0,244,0\\n67,0,213,0,38,0,215000,1.2,133,0,0,245,0\\n42,0,64,0,40,0,189000,0.7,140,1,0,245,0\\n60,1,257,1,30,0,150000,1,137,1,1,245,0\\n45,0,582,0,38,1,422000,0.8,137,0,0,245,0\\n70,0,618,0,35,0,327000,1.1,142,0,0,245,0\\n70,0,582,1,38,0,25100,1.1,140,1,0,246,0\\n50,1,1051,1,30,0,232000,0.7,136,0,0,246,0\\n55,0,84,1,38,0,451000,1.3,136,0,0,246,0\\n70,0,2695,1,40,0,241000,1,137,1,0,247,0\\n70,0,582,0,40,0,51000,2.7,136,1,1,250,0\\n42,0,64,0,30,0,215000,3.8,128,1,1,250,0\\n65,0,1688,0,38,0,263358.03,1.1,138,1,1,250,0\\n50,1,54,0,40,0,279000,0.8,141,1,0,250,0\\n55,1,170,1,40,0,336000,1.2,135,1,0,250,0\\n60,0,253,0,35,0,279000,1.7,140,1,0,250,0\\n45,0,582,1,55,0,543000,1,132,0,0,250,0\\n65,0,892,1,35,0,263358.03,1.1,142,0,0,256,0\\n90,1,337,0,38,0,390000,0.9,144,0,0,256,0\\n45,0,615,1,55,0,222000,0.8,141,0,0,257,0\\n60,0,320,0,35,0,133000,1.4,139,1,0,258,0\\n52,0,190,1,38,0,382000,1,140,1,1,258,0\\n63,1,103,1,35,0,179000,0.9,136,1,1,270,0\\n62,0,61,1,38,1,155000,1.1,143,1,1,270,0\\n55,0,1820,0,38,0,270000,1.2,139,0,0,271,0\\n45,0,2060,1,60,0,742000,0.8,138,0,0,278,0\\n45,0,2413,0,38,0,140000,1.4,140,1,1,280,0\\n50,0,196,0,45,0,395000,1.6,136,1,1,285,0\\n'}"
            ]
          },
          "metadata": {
            "tags": []
          },
          "execution_count": 3
        }
      ]
    },
    {
      "cell_type": "markdown",
      "metadata": {
        "id": "CoDzpMF4Pd-3"
      },
      "source": [
        "## Step 2: Mount drive and define paths\n",
        "Mount the drive you need to enter a link to make this work we need a workaround"
      ]
    },
    {
      "cell_type": "code",
      "metadata": {
        "colab": {
          "base_uri": "https://localhost:8080/"
        },
        "id": "MUpBoRgVAn_3",
        "outputId": "01aff04f-0058-4cb9-e6de-9857c28e2bd0"
      },
      "source": [
        "from google.colab import drive\n",
        "drive.mount('/content/gdrive')"
      ],
      "execution_count": 4,
      "outputs": [
        {
          "output_type": "stream",
          "text": [
            "Mounted at /content/gdrive\n"
          ],
          "name": "stdout"
        }
      ]
    },
    {
      "cell_type": "code",
      "metadata": {
        "id": "KJaxYxkKA23k"
      },
      "source": [
        "import os\n",
        "\n",
        "data_path = \"/content/gdrive/MyDrive/Kaggle\"\n",
        "os.environ['KAGGLE_CONFIG_DIR'] = data_path\n",
        "\n",
        "\n"
      ],
      "execution_count": 9,
      "outputs": []
    },
    {
      "cell_type": "code",
      "metadata": {
        "colab": {
          "base_uri": "https://localhost:8080/"
        },
        "id": "B7pjzjgWA9yk",
        "outputId": "ab307d39-fd96-4def-e9f6-bb4c848b045c"
      },
      "source": [
        "#changing the working directory\n",
        "%cd /content/gdrive/MyDrive/Kaggle"
      ],
      "execution_count": 10,
      "outputs": [
        {
          "output_type": "stream",
          "text": [
            "/content/gdrive/MyDrive/Kaggle\n"
          ],
          "name": "stdout"
        }
      ]
    },
    {
      "cell_type": "markdown",
      "metadata": {
        "id": "FAfSe4XaPXg4"
      },
      "source": [
        "## Step 3: Fetch data from kaggle and unzip\n",
        "\n",
        "This is from kaggle (navigate to the API tab and copy paste)"
      ]
    },
    {
      "cell_type": "code",
      "metadata": {
        "colab": {
          "base_uri": "https://localhost:8080/"
        },
        "id": "UkwuKoC2BywD",
        "outputId": "9bdefe20-ca82-4bc8-d23f-2f4f59658647"
      },
      "source": [
        "!kaggle datasets download -d andrewmvd/heart-failure-clinical-data"
      ],
      "execution_count": 15,
      "outputs": [
        {
          "output_type": "stream",
          "text": [
            "Downloading heart-failure-clinical-data.zip to /content/gdrive/MyDrive/Kaggle\n",
            "\r  0% 0.00/3.97k [00:00<?, ?B/s]\n",
            "\r100% 3.97k/3.97k [00:00<00:00, 906kB/s]\n"
          ],
          "name": "stdout"
        }
      ]
    },
    {
      "cell_type": "code",
      "metadata": {
        "colab": {
          "base_uri": "https://localhost:8080/"
        },
        "id": "mlL-f3_w2Phe",
        "outputId": "6c7b80cc-3d2c-4863-9b86-7c18c87bd37a"
      },
      "source": [
        "# We are now in the dir with our dataset\n",
        "!ls"
      ],
      "execution_count": 16,
      "outputs": [
        {
          "output_type": "stream",
          "text": [
            "heart-failure-clinical-data.zip\t\t    kaggle.json\n",
            "heart_failure_clinical_records_dataset.csv\n"
          ],
          "name": "stdout"
        }
      ]
    },
    {
      "cell_type": "code",
      "metadata": {
        "colab": {
          "base_uri": "https://localhost:8080/"
        },
        "id": "c73ZtVNZ4ktG",
        "outputId": "58a0c331-7060-4ba3-f9ce-2c6f2a8972f9"
      },
      "source": [
        "#unzipping the zip files and deleting the zip files\n",
        "!unzip \\*.zip  && rm *.zip"
      ],
      "execution_count": 17,
      "outputs": [
        {
          "output_type": "stream",
          "text": [
            "Archive:  heart-failure-clinical-data.zip\n",
            "replace heart_failure_clinical_records_dataset.csv? [y]es, [n]o, [A]ll, [N]one, [r]ename: y\n",
            "  inflating: heart_failure_clinical_records_dataset.csv  \n"
          ],
          "name": "stdout"
        }
      ]
    },
    {
      "cell_type": "code",
      "metadata": {
        "colab": {
          "base_uri": "https://localhost:8080/"
        },
        "id": "CPrliZm23EMZ",
        "outputId": "64ac6589-c00c-499a-e7e6-b4f9f764f23d"
      },
      "source": [
        "!ls"
      ],
      "execution_count": 19,
      "outputs": [
        {
          "output_type": "stream",
          "text": [
            "heart_failure_clinical_records_dataset.csv  kaggle.json\n"
          ],
          "name": "stdout"
        }
      ]
    },
    {
      "cell_type": "markdown",
      "metadata": {
        "id": "_neRFQ8PPNRa"
      },
      "source": [
        "## Step 4: Explore and clean the data \n",
        "\n",
        "\n",
        "\n",
        " Let's get the data cleaned and arranged\n",
        " https://www.kaggle.com/anushkahedaoo/hotel-booking-demand-data-cleaning\n",
        "\n",
        " A very useful source is here: https://scikit-learn.org/stable/modules/preprocessing.html\n",
        "\n",
        " Section 6.3.4 goes through the processes of encoding categorical features\n"
      ]
    },
    {
      "cell_type": "code",
      "metadata": {
        "colab": {
          "base_uri": "https://localhost:8080/"
        },
        "id": "CXZJEupo6NAP",
        "outputId": "0897f423-b592-422c-8db7-5daf0ff0d031"
      },
      "source": [
        "import pandas as pd \n",
        "import numpy as np\n",
        "missing_value=[\"Undefined\"]\n",
        "data = pd.read_csv(\"heart_failure_clinical_records_dataset.csv\", na_values=missing_value) \n",
        "data.head()\n",
        "\n",
        "np.sum(data.isnull())\n",
        "\n",
        "# Here we are using the 12 features to predict the liklihood of a death event. \n",
        "\n",
        "Y = data['DEATH_EVENT']\n",
        "Y = Y[1:]\n",
        "X = data.drop(['DEATH_EVENT'], axis=1)\n",
        "X = X[1:]\n",
        "\n",
        "print(X.shape, Y.shape)"
      ],
      "execution_count": 20,
      "outputs": [
        {
          "output_type": "stream",
          "text": [
            "(298, 12) (298,)\n"
          ],
          "name": "stdout"
        }
      ]
    },
    {
      "cell_type": "code",
      "metadata": {
        "colab": {
          "base_uri": "https://localhost:8080/"
        },
        "id": "-uCVVMYQ16dw",
        "outputId": "3303480c-8a36-4f16-820c-de764a9bcf8b"
      },
      "source": [
        "# Now we need to look at Y\n",
        "# 70/30\n",
        "\n",
        "from collections import Counter\n",
        "\n",
        "original_counts = Counter(Y)\n",
        "print(original_counts)\n",
        "\n",
        "\n",
        "# now lets balance the data\n",
        "from imblearn.over_sampling import SMOTE\n",
        "over = SMOTE()\n",
        "X_new, Y_new = over.fit_resample(X,Y)\n",
        "new_counts = Counter(Y_new)\n",
        "print(new_counts)\n",
        "\n",
        "# The deprication warning should be resolved. https://github.com/skorch-dev/skorch/issues/612"
      ],
      "execution_count": 21,
      "outputs": [
        {
          "output_type": "stream",
          "text": [
            "Counter({0: 203, 1: 95})\n"
          ],
          "name": "stdout"
        },
        {
          "output_type": "stream",
          "text": [
            "/usr/local/lib/python3.7/dist-packages/sklearn/externals/six.py:31: FutureWarning: The module is deprecated in version 0.21 and will be removed in version 0.23 since we've dropped support for Python 2.7. Please rely on the official version of six (https://pypi.org/project/six/).\n",
            "  \"(https://pypi.org/project/six/).\", FutureWarning)\n"
          ],
          "name": "stderr"
        },
        {
          "output_type": "stream",
          "text": [
            "Counter({1: 203, 0: 203})\n"
          ],
          "name": "stdout"
        },
        {
          "output_type": "stream",
          "text": [
            "/usr/local/lib/python3.7/dist-packages/sklearn/utils/deprecation.py:144: FutureWarning: The sklearn.neighbors.base module is  deprecated in version 0.22 and will be removed in version 0.24. The corresponding classes / functions should instead be imported from sklearn.neighbors. Anything that cannot be imported from sklearn.neighbors is now part of the private API.\n",
            "  warnings.warn(message, FutureWarning)\n",
            "/usr/local/lib/python3.7/dist-packages/sklearn/utils/deprecation.py:87: FutureWarning: Function safe_indexing is deprecated; safe_indexing is deprecated in version 0.22 and will be removed in version 0.24.\n",
            "  warnings.warn(msg, category=FutureWarning)\n"
          ],
          "name": "stderr"
        }
      ]
    },
    {
      "cell_type": "markdown",
      "metadata": {
        "id": "OYO1ME8_PvFC"
      },
      "source": [
        "## Step 5: Create the pipeline with a gridsearch\n",
        "\n",
        "Here we can get the C parameter for the logistic regression model and the optimal number of features from PCA.\n"
      ]
    },
    {
      "cell_type": "code",
      "metadata": {
        "id": "2SPOHU8E93i6",
        "colab": {
          "base_uri": "https://localhost:8080/"
        },
        "outputId": "964fd59a-9d8e-4360-b0f2-43c297e5f714"
      },
      "source": [
        "import numpy as np\n",
        "import matplotlib.pyplot as plt\n",
        "import pandas as pd\n",
        "\n",
        "from sklearn.decomposition import PCA\n",
        "from sklearn.linear_model import LogisticRegression\n",
        "from sklearn.pipeline import Pipeline\n",
        "from sklearn.model_selection import GridSearchCV\n",
        "\n",
        "# Define a pipeline to search for the best combination of PCA truncation\n",
        "# and classifier regularization with out the use of SMOTE.\n",
        "\n",
        "from sklearn.model_selection import train_test_split\n",
        "\n",
        "x_train, x_test, y_train, y_test = train_test_split(X_new, Y_new, test_size=0.2, random_state=0)\n",
        "\n",
        "pca = PCA()\n",
        "\n",
        "logistic = LogisticRegression(max_iter=100000, tol=0.1)\n",
        "\n",
        "pipe = Pipeline(steps=[('pca', pca), ('logistic', logistic)])\n",
        "\n",
        "# This grid search is exhaustive and time consuming. \n",
        "\n",
        "# Parameters of pipelines can be set using ‘__’ separated parameter names:\n",
        "param_grid = {\n",
        "    'pca__n_components': [2, 4, 8, 10, 12],\n",
        "    'logistic__C': np.logspace(-4, 4, 6),\n",
        "}\n",
        "search = GridSearchCV(pipe, param_grid, n_jobs=-1)\n",
        "search.fit(x_train, y_train)\n",
        "print(\"Best parameter (CV score=%0.3f):\" % search.best_score_)\n",
        "print(search.best_params_)\n",
        "\n"
      ],
      "execution_count": 22,
      "outputs": [
        {
          "output_type": "stream",
          "text": [
            "Best parameter (CV score=0.802):\n",
            "{'logistic__C': 0.003981071705534973, 'pca__n_components': 12}\n"
          ],
          "name": "stdout"
        }
      ]
    },
    {
      "cell_type": "code",
      "metadata": {
        "colab": {
          "base_uri": "https://localhost:8080/"
        },
        "id": "MkfirnlT3RsV",
        "outputId": "eff362db-89b9-4bb0-adca-157e6ec28ee1"
      },
      "source": [
        "print(search.best_params_)"
      ],
      "execution_count": 23,
      "outputs": [
        {
          "output_type": "stream",
          "text": [
            "{'logistic__C': 0.003981071705534973, 'pca__n_components': 12}\n"
          ],
          "name": "stdout"
        }
      ]
    },
    {
      "cell_type": "code",
      "metadata": {
        "colab": {
          "base_uri": "https://localhost:8080/"
        },
        "id": "k4vORHIK3Sfg",
        "outputId": "fd415d94-368f-4aeb-9476-6a059db87e49"
      },
      "source": [
        "search.best_params_\n",
        "np.logspace(-4,4,6)"
      ],
      "execution_count": 24,
      "outputs": [
        {
          "output_type": "execute_result",
          "data": {
            "text/plain": [
              "array([1.00000000e-04, 3.98107171e-03, 1.58489319e-01, 6.30957344e+00,\n",
              "       2.51188643e+02, 1.00000000e+04])"
            ]
          },
          "metadata": {
            "tags": []
          },
          "execution_count": 24
        }
      ]
    },
    {
      "cell_type": "code",
      "metadata": {
        "colab": {
          "base_uri": "https://localhost:8080/",
          "height": 441
        },
        "id": "ykv_BCvE4xh5",
        "outputId": "fd538db1-56c2-486c-b32e-bc6ea50554c6"
      },
      "source": [
        "# Visulaize the PCA\n",
        "# This section is about using PCA to find the optimal combination of features\n",
        "# https://scikit-learn.org/stable/auto_examples/compose/plot_digits_pipe.html\n",
        "\n",
        "pca.fit(x_train)\n",
        "\n",
        "fig, (ax0, ax1) = plt.subplots(nrows=2, sharex=True, figsize=(6, 6))\n",
        "ax0.plot(np.arange(1, pca.n_components_ + 1),\n",
        "         pca.explained_variance_ratio_, '+', linewidth=2)\n",
        "ax0.set_ylabel('PCA explained variance ratio')\n",
        "\n",
        "ax0.axvline(search.best_estimator_.named_steps['pca'].n_components,\n",
        "            linestyle=':', label='n_components chosen')\n",
        "ax0.legend(prop=dict(size=12))\n",
        "\n",
        "results = pd.DataFrame(search.cv_results_)\n",
        "components_col = 'param_pca__n_components'\n",
        "best_clfs = results.groupby(components_col).apply(\n",
        "    lambda g: g.nlargest(1, 'mean_test_score'))\n",
        "\n",
        "best_clfs.plot(x=components_col, y='mean_test_score', yerr='std_test_score',\n",
        "               legend=False, ax=ax1)\n",
        "ax1.set_ylabel('Classification accuracy (val)')\n",
        "ax1.set_xlabel('n_components')\n",
        "\n",
        "plt.xlim(-1, 70)\n",
        "\n",
        "plt.tight_layout()"
      ],
      "execution_count": 25,
      "outputs": [
        {
          "output_type": "display_data",
          "data": {
            "image/png": "[encoded data removed]",
            "text/plain": [
              "<Figure size 432x432 with 2 Axes>"
            ]
          },
          "metadata": {
            "tags": [],
            "needs_background": "light"
          }
        }
      ]
    },
    {
      "cell_type": "markdown",
      "metadata": {
        "id": "9rLWOrqtjJzd"
      },
      "source": [
        "# Step 6: Use the values from Step 5 to train and evaluate the model"
      ]
    },
    {
      "cell_type": "code",
      "metadata": {
        "id": "54euQedy6OCx"
      },
      "source": [
        "from imblearn.over_sampling import SMOTE\n",
        "from sklearn.preprocessing import StandardScaler\n",
        "from sklearn.pipeline import make_pipeline\n",
        "from sklearn.decomposition import PCA\n",
        "from sklearn.linear_model import LogisticRegression\n",
        "from sklearn.pipeline import Pipeline\n",
        "from sklearn.model_selection import train_test_split\n",
        "\n",
        "x_train, x_test, y_train, y_test = train_test_split(X_new, Y_new, test_size=0.2, random_state=0)\n",
        "\n",
        "pca = PCA(n_components=8)\n",
        "stdscl = StandardScaler()\n",
        "logistic = LogisticRegression(C = 0.15848931924611143, max_iter=100000, tol=0.1)\n",
        "\n",
        "\n",
        "pipe = Pipeline(steps=[('standardscalar', stdscl),('pca', pca), ('logistic', logistic)])\n"
      ],
      "execution_count": 26,
      "outputs": []
    },
    {
      "cell_type": "code",
      "metadata": {
        "id": "qE-QvNC4P9pt"
      },
      "source": [
        "my_mdl = pipe.fit(x_train, y_train)"
      ],
      "execution_count": 27,
      "outputs": []
    },
    {
      "cell_type": "code",
      "metadata": {
        "colab": {
          "base_uri": "https://localhost:8080/"
        },
        "id": "UXsVvydPYy00",
        "outputId": "29de85a0-0f4f-4946-dbdb-6fa7d608f726"
      },
      "source": [
        "from joblib import dump, load \n",
        "dump(my_mdl, 'svc_model.pkl')"
      ],
      "execution_count": 29,
      "outputs": [
        {
          "output_type": "execute_result",
          "data": {
            "text/plain": [
              "['svc_model.pkl']"
            ]
          },
          "metadata": {
            "tags": []
          },
          "execution_count": 29
        }
      ]
    },
    {
      "cell_type": "code",
      "metadata": {
        "colab": {
          "base_uri": "https://localhost:8080/"
        },
        "id": "jmwzpiT9QK2e",
        "outputId": "e3a42c7f-0a6a-4ca7-d13b-5914d68aecd6"
      },
      "source": [
        "my_mdl.score(x_test,y_test)"
      ],
      "execution_count": 30,
      "outputs": [
        {
          "output_type": "execute_result",
          "data": {
            "text/plain": [
              "0.8536585365853658"
            ]
          },
          "metadata": {
            "tags": []
          },
          "execution_count": 30
        }
      ]
    },
    {
      "cell_type": "code",
      "metadata": {
        "id": "4qozdfHKZQQB"
      },
      "source": [
        "def my_prediction(an_array):\n",
        "    prediction = my_model.predict(an_array)\n",
        "    name = class_names[prediction]\n",
        "    return name"
      ],
      "execution_count": 31,
      "outputs": []
    },
    {
      "cell_type": "code",
      "metadata": {
        "id": "Hr0u7d95Qt_p"
      },
      "source": [
        "my_prediction = my_mdl.predict(x_test)"
      ],
      "execution_count": 32,
      "outputs": []
    },
    {
      "cell_type": "code",
      "metadata": {
        "colab": {
          "base_uri": "https://localhost:8080/"
        },
        "id": "eKMMr6oQQ2Xd",
        "outputId": "cc71b821-2a30-4c0d-dba3-5f382124c2e5"
      },
      "source": [
        "from sklearn.metrics import classification_report\n",
        "print(classification_report(y_test, my_prediction, target_names=['0', '1']))"
      ],
      "execution_count": 33,
      "outputs": [
        {
          "output_type": "stream",
          "text": [
            "              precision    recall  f1-score   support\n",
            "\n",
            "           0       0.84      0.84      0.84        38\n",
            "           1       0.86      0.86      0.86        44\n",
            "\n",
            "    accuracy                           0.85        82\n",
            "   macro avg       0.85      0.85      0.85        82\n",
            "weighted avg       0.85      0.85      0.85        82\n",
            "\n"
          ],
          "name": "stdout"
        }
      ]
    },
    {
      "cell_type": "code",
      "metadata": {
        "colab": {
          "base_uri": "https://localhost:8080/"
        },
        "id": "EnPP2cnTRye6",
        "outputId": "97e2aeb3-28de-4917-a834-c94c64ca396a"
      },
      "source": [
        "from sklearn.metrics import confusion_matrix\n",
        "conf = confusion_matrix(y_test, my_prediction)\n",
        "conf"
      ],
      "execution_count": 34,
      "outputs": [
        {
          "output_type": "execute_result",
          "data": {
            "text/plain": [
              "array([[32,  6],\n",
              "       [ 6, 38]])"
            ]
          },
          "metadata": {
            "tags": []
          },
          "execution_count": 34
        }
      ]
    },
    {
      "cell_type": "code",
      "metadata": {
        "colab": {
          "base_uri": "https://localhost:8080/",
          "height": 295
        },
        "id": "fSoRUWANTaYi",
        "outputId": "c6c4ea81-8602-4877-d4b1-1f50d18a3316"
      },
      "source": [
        "import sklearn.metrics as metrics\n",
        "# calculate the fpr and tpr for all thresholds of the classification\n",
        "probs = pipe.predict_proba(x_test)\n",
        "preds = probs[:,1]\n",
        "fpr, tpr, threshold = metrics.roc_curve(y_test, my_prediction)\n",
        "roc_auc = metrics.auc(fpr, tpr)\n",
        "\n",
        "import matplotlib.pyplot as plt\n",
        "plt.title('Receiver Operating Characteristic')\n",
        "plt.plot(fpr, tpr, 'b', label = 'AUC = %0.2f' % roc_auc)\n",
        "plt.legend(loc = 'lower right')\n",
        "plt.plot([0, 1], [0, 1],'r--')\n",
        "plt.xlim([0, 1])\n",
        "plt.ylim([0, 1])\n",
        "plt.ylabel('True Positive Rate')\n",
        "plt.xlabel('False Positive Rate')\n",
        "plt.show()"
      ],
      "execution_count": 35,
      "outputs": [
        {
          "output_type": "display_data",
          "data": {
            "image/png": "[encoded data removed]",
            "text/plain": [
              "<Figure size 432x288 with 1 Axes>"
            ]
          },
          "metadata": {
            "tags": [],
            "needs_background": "light"
          }
        }
      ]
    }
  ]
}